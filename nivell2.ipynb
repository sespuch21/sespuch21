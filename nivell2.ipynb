{
 "cells": [
  {
   "cell_type": "code",
   "execution_count": 2,
   "id": "b896ed61-4487-4f55-b350-49e7d70dc4f6",
   "metadata": {
    "autorun": true,
    "tags": []
   },
   "outputs": [],
   "source": [
    "String printBinary(String binary, int blockSize, String separator) {\n",
    "        List<String> result = new ArrayList<>();\n",
    "        int index = 0;\n",
    "        while (index < binary.length()) {\n",
    "            result.add(binary.substring(index, Math.min(index + blockSize, binary.length())));\n",
    "            index += blockSize;\n",
    "        }\n",
    "\n",
    "        return result.stream().collect(java.util.stream.Collectors.joining(separator));\n",
    "    }\n",
    "void intToBin(int input){\n",
    "    String result = Integer.toBinaryString(input);\n",
    "    String resultWithPadding = String.format(\"%32s\", result).replaceAll(\" \", \"0\");\n",
    "    System.out.println(printBinary(resultWithPadding, 4, \" \")); \n",
    "}\n",
    "\n",
    "//La funció ```intToBin``` la podeu utilitzar, si voleu, com a ajuda per a respondre les preguntes 1 i 2."
   ]
  },
  {
   "cell_type": "markdown",
   "id": "54b801d8-b4b0-4b20-a67c-5b701d1e6f56",
   "metadata": {},
   "source": [
    "# Nivell 2"
   ]
  },
  {
   "cell_type": "markdown",
   "id": "6acb5fd8-9cfe-483a-8d6c-8e2b3f3b2692",
   "metadata": {},
   "source": [
    "## Pregunta 1"
   ]
  },
  {
   "cell_type": "markdown",
   "id": "42998526-bce2-4306-9a33-e618e8c5d05a",
   "metadata": {},
   "source": [
    "**Operadors shift**\n",
    "\n",
    "Executeu el seguent codi en una cel·la del notebook:\n",
    "\n",
    "```java\n",
    "int n = 10;\n",
    "println(n<<1 == n * 2);\n",
    "println(n<<2 == n * 4);\n",
    "println(n<<3 == n * 8);\n",
    "```\n",
    "\n",
    "Explica **per què** imprimeix _true_ en cada cas? (**Raona la resposta**)"
   ]
  },
  {
   "cell_type": "code",
   "execution_count": null,
   "id": "1e241e28-fb81-4885-b03b-d5c1d4a1753a",
   "metadata": {},
   "outputs": [],
   "source": [
    "//Escriu i executa el codi aquí\n",
    "\n",
    "int n = 10;\n",
    "println(n<<1 == n * 2);\n",
    "println(n<<2 == n * 4);\n",
    "println(n<<3 == n * 8);"
   ]
  },
  {
   "cell_type": "markdown",
   "id": "99cdca44-50f9-464b-a8e7-9a9ea4dcee6a",
   "metadata": {},
   "source": [
    "Resposta:\n",
    "\n",
    "_Escriu la teva resposta aquí_"
   ]
  },
  {
   "cell_type": "markdown",
   "id": "beac9e74-d4a2-481a-b351-db070966a91f",
   "metadata": {},
   "source": [
    "## Pregunta 2"
   ]
  },
  {
   "cell_type": "markdown",
   "id": "ab86a9cc-78b1-4d6b-af08-9d45d1d048be",
   "metadata": {},
   "source": [
    "Executa el següent codi, cada línia en una cel·la:\n",
    "\n",
    "```java\n",
    "int n = 10;\n",
    "println(n & ~n);\n",
    "println(n | ~n);\n",
    "```"
   ]
  },
  {
   "cell_type": "code",
   "execution_count": null,
   "id": "26029d33-e1ef-46be-ae8a-35c4998e9520",
   "metadata": {},
   "outputs": [],
   "source": [
    "//Escriu i executa el codi aquí\n",
    "\n",
    "int n = 10;\n",
    "println(n & ~n);\n",
    "println(n | ~n);"
   ]
  },
  {
   "cell_type": "markdown",
   "id": "80a32860-4a5b-45f8-96cf-945f298baaa6",
   "metadata": {},
   "source": [
    "Has de contestar dues preguntes:\n",
    "\n",
    "1 - Per què s'obté 0 i -1?\n",
    "\n",
    "Resposta:\n",
    "\n",
    "_Escriu la teva resposta aquí_\n",
    "\n",
    "2 - Per què, posis el valor que li posis a la variable _n_, sempre dóna el mateix (0 i -1)?\n",
    "\n",
    "Resposta:\n",
    "\n",
    "_Escriu la teva resposta aquí_"
   ]
  },
  {
   "cell_type": "markdown",
   "id": "b61701fd-7032-4adb-af2a-508e0b667371",
   "metadata": {},
   "source": [
    "## Exercici 1"
   ]
  },
  {
   "cell_type": "markdown",
   "id": "747e1fa9-08e4-4881-a3be-5feb4fdb1057",
   "metadata": {},
   "source": [
    "Escriu una funció, la signatura de la qual serà\n",
    "\n",
    "```java\n",
    "int[] removeNegatives2(int[] array);\n",
    "```\n",
    "\n",
    "que retorni un array que només contingui els elements no negatius de l'array d'entrada (és a dir, els positius i els zeros).\n",
    "\n",
    "Exemples:\n",
    "```\n",
    "[2,-1,-5,4,6] -> retorna [2,4,6]\n",
    "[0,-3,3] -> retorna [0,3] \n",
    "[] -> retorna [] (l'array buit -sense elements- retorna un array buit)\n",
    "```\n"
   ]
  },
  {
   "cell_type": "code",
   "execution_count": null,
   "id": "5b3ac07b-ca13-404f-b00d-637f62457a4d",
   "metadata": {},
   "outputs": [],
   "source": [
    "//Escriu i prova el teu codi aquí\n",
    "\n",
    "int[] removeNegatives2(int[] array);{\n",
    "    //El teu codi aquí\n",
    "}\n",
    "\n",
    "//Crea les teves proves aquí"
   ]
  },
  {
   "cell_type": "markdown",
   "id": "89d4609e-c040-4029-bd48-083b931f9f4d",
   "metadata": {},
   "source": [
    "## Exercici 2 (arrays bidimensionals)"
   ]
  },
  {
   "cell_type": "markdown",
   "id": "38fb449c-f92c-423e-9572-098dce117abd",
   "metadata": {},
   "source": [
    "En aquest exercici heu d'implementar una funció molt semblant a la del nivell 1 (arrays bidimensionals), però ara li passarem com a segon paràmetre un número enter ``k`` que representa la columna que volem obtenir de la matriu.\n",
    "\n",
    "Per tant, si la matriu que es passa com a primer paràmetre és de mida ``n x m`` (n files i m columnes), el valor de ``k`` estarà entre 0 i m-1. **Si el valor de k no està entre 0 i k-1, la funció ha de retornar null i imprimir per pantalla un missatge d'error**.\n",
    "\n",
    "El resultat d'aquesta funció quan k = 0 ha de ser idèntic al resultat retornat per la funció del nivell 1."
   ]
  },
  {
   "cell_type": "markdown",
   "id": "f76f6527-a444-4041-b02d-d08b901d4927",
   "metadata": {},
   "source": [
    "**Exemple**:\n",
    "\n",
    "```\n",
    "int[][] matrix = {{0,1},{2,3},{4,5}};\n",
    "\n",
    "getColumn(matrix,0) -> retorna [0,2,4]\n",
    "getColumn(matrix,1) -> retorna [1,3,5]\n",
    "getColumn(matrix,2) -> retorna null i imprimeix error\n",
    "getColumn(matrix,-2) -> retorna null i imprimeix error \n",
    "```\n"
   ]
  },
  {
   "cell_type": "code",
   "execution_count": null,
   "id": "63e6755c-0cbb-45fa-b7a9-dd8e15938602",
   "metadata": {},
   "outputs": [],
   "source": [
    "//Implementeu la funció aquí:\n",
    "\n",
    "int[] getColumn(int[][] matrix, int k){\n",
    "    \n",
    "\n",
    "}"
   ]
  },
  {
   "cell_type": "code",
   "execution_count": null,
   "id": "ab8cb133-8b9b-41c3-9866-1eca5708cb2a",
   "metadata": {},
   "outputs": [],
   "source": [
    "//Feu les vostres proves a continuació"
   ]
  },
  {
   "cell_type": "code",
   "execution_count": null,
   "id": "940dc373-a4de-4dfd-b901-1e3b413e347e",
   "metadata": {},
   "outputs": [],
   "source": []
  }
 ],
 "metadata": {
  "kernelspec": {
   "display_name": "Java 11",
   "language": "java",
   "name": "java"
  },
  "language_info": {
   "codemirror_mode": "java",
   "file_extension": ".jshell",
   "mimetype": "text/x-java-source",
   "name": "Java",
   "pygments_lexer": "java",
   "version": "11.0.14+9-Ubuntu-0ubuntu2.20.04"
  }
 },
 "nbformat": 4,
 "nbformat_minor": 5
}
